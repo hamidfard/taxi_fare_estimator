{
 "cells": [
  {
   "cell_type": "code",
   "execution_count": 1,
   "id": "ff7ec226",
   "metadata": {},
   "outputs": [],
   "source": [
    "import torch\n",
    "import torch.nn as nn\n",
    "\n",
    "import numpy as np\n",
    "import pandas as pd\n",
    "import matplotlib.pyplot as plt\n",
    "\n",
    "import os"
   ]
  },
  {
   "cell_type": "code",
   "execution_count": 2,
   "id": "a60827df",
   "metadata": {},
   "outputs": [],
   "source": [
    "file_path = os.path.join('data', 'NYCTaxiFares.csv')\n",
    "df = pd.read_csv(file_path)"
   ]
  },
  {
   "cell_type": "code",
   "execution_count": 20,
   "id": "93212950",
   "metadata": {},
   "outputs": [],
   "source": [
    "def haversine_distance(df, lat1, long1, lat2, long2):\n",
    "    \"\"\"\n",
    "    Calculates the haversine distance between 2 sets of GPS coordinates in df\n",
    "    \"\"\"\n",
    "    r = 6371  # average radius of Earth in kilometers\n",
    "       \n",
    "    phi1 = np.radians(df[lat1])\n",
    "    phi2 = np.radians(df[lat2])\n",
    "    \n",
    "    delta_phi = np.radians(df[lat2]-df[lat1])\n",
    "    delta_lambda = np.radians(df[long2]-df[long1])\n",
    "     \n",
    "    a = np.sin(delta_phi/2)**2 + np.cos(phi1) * np.cos(phi2) * np.sin(delta_lambda/2)**2\n",
    "    c = 2 * np.arctan2(np.sqrt(a), np.sqrt(1-a))\n",
    "    d = (r * c) # in kilometers\n",
    "\n",
    "    return d"
   ]
  },
  {
   "cell_type": "code",
   "execution_count": 21,
   "id": "f19c645f",
   "metadata": {},
   "outputs": [],
   "source": [
    "df['dist_km'] = haversine_distance(df,'pickup_latitude', 'pickup_longitude', 'dropoff_latitude', 'dropoff_longitude')"
   ]
  },
  {
   "cell_type": "code",
   "execution_count": 22,
   "id": "b5c63269",
   "metadata": {},
   "outputs": [],
   "source": [
    "df['EDTdate'] = pd.to_datetime(df['pickup_datetime'].str[:19]) - pd.Timedelta(hours=4)\n",
    "df['Hour'] = df['EDTdate'].dt.hour\n",
    "df['AMorPM'] = np.where(df['Hour']<12,'am','pm')\n",
    "df['Weekday'] = df['EDTdate'].dt.strftime(\"%a\")"
   ]
  },
  {
   "cell_type": "code",
   "execution_count": 23,
   "id": "7c9a2411",
   "metadata": {},
   "outputs": [],
   "source": [
    "categorical_columns = ['Hour', 'AMorPM', 'Weekday']\n",
    "continious_columns = ['pickup_latitude', 'pickup_longitude', 'dropoff_latitude', 'dropoff_longitude', 'passenger_count', 'dist_km']\n",
    "y_column = ['fare_amount']"
   ]
  },
  {
   "cell_type": "code",
   "execution_count": 24,
   "id": "ccc068b0",
   "metadata": {},
   "outputs": [],
   "source": [
    "# Convert our three categorical columns to category dtypes.\n",
    "for category in categorical_columns:\n",
    "    df[category] = df[category].astype('category')"
   ]
  },
  {
   "cell_type": "code",
   "execution_count": 25,
   "id": "ad3a2325",
   "metadata": {},
   "outputs": [],
   "source": [
    "hour = df['Hour'].cat.codes.values\n",
    "am_pm = df['AMorPM'].cat.codes.values\n",
    "week_day = df['Weekday'].cat.codes.values\n",
    "\n",
    "categories = np.stack([hour, am_pm, week_day], 1)"
   ]
  },
  {
   "cell_type": "code",
   "execution_count": 26,
   "id": "f328ecd3",
   "metadata": {},
   "outputs": [],
   "source": [
    "# Convert categorical variables to a tensor\n",
    "categories = torch.tensor(categories, dtype=torch.int64) "
   ]
  },
  {
   "cell_type": "code",
   "execution_count": 27,
   "id": "8e5dcd19",
   "metadata": {},
   "outputs": [],
   "source": [
    "# Convert continuous variables to a tensor\n",
    "continiouses = np.stack([df[columns].values for columns in continious_columns], 1)\n",
    "continiouses = torch.tensor(continiouses, dtype=torch.float)"
   ]
  },
  {
   "cell_type": "code",
   "execution_count": 28,
   "id": "bd99b34a",
   "metadata": {},
   "outputs": [],
   "source": [
    "# Convert labels to a tensor\n",
    "y = torch.tensor(df[y_column].values, dtype=torch.float).reshape(-1,1)"
   ]
  },
  {
   "cell_type": "code",
   "execution_count": 29,
   "id": "8fed974c",
   "metadata": {},
   "outputs": [],
   "source": [
    "# This will set embedding sizes for Hours, AMvsPM and Weekdays\n",
    "categories_sizes = [len(df[column].cat.categories) for column in categorical_columns]\n",
    "embedding_sizes = [(size, min(50, (size+1)//2)) for size in categories_sizes]"
   ]
  },
  {
   "cell_type": "code",
   "execution_count": 30,
   "id": "f099e1e0",
   "metadata": {},
   "outputs": [],
   "source": [
    "class TabularModel(nn.Module):\n",
    "\n",
    "    def __init__(self, embedding_sizes, continious_no, out_size, layers, probability=0.5):\n",
    "        super().__init__()\n",
    "        self.embeddings = nn.ModuleList([nn.Embedding(size_of_category, size_of_embed) for size_of_category,size_of_embed in embedding_sizes])\n",
    "        self.embedding_drop = nn.Dropout(probability)\n",
    "        self.continious_normalization = nn.BatchNorm1d(continious_no)\n",
    "        \n",
    "        layer_list = []\n",
    "        embedding_no = sum((size_of_embed for size_of_category,size_of_embed in embedding_sizes))\n",
    "        input_no = embedding_no + continious_no\n",
    "        \n",
    "        for layer_width in layers:\n",
    "            layer_list.append(nn.Linear(input_no,layer_width)) \n",
    "            layer_list.append(nn.ReLU(inplace=True))\n",
    "            layer_list.append(nn.BatchNorm1d(layer_width))\n",
    "            layer_list.append(nn.Dropout(probability))\n",
    "            input_no = layer_width\n",
    "        layer_list.append(nn.Linear(layers[-1],out_size))\n",
    "            \n",
    "        self.layers = nn.Sequential(*layer_list)\n",
    "    \n",
    "    def forward(self, x_categorical, x_continious):\n",
    "        embeddings_list = []\n",
    "        for i,e in enumerate(self.embeddings):\n",
    "            embeddings_list.append(e(x_categorical[:,i]))\n",
    "        x = torch.cat(embeddings_list, 1)\n",
    "        x = self.embedding_drop(x)\n",
    "        \n",
    "        x_continious = self.continious_normalization(x_continious)\n",
    "        x = torch.cat([x, x_continious], 1)\n",
    "        x = self.layers(x)\n",
    "        return x"
   ]
  },
  {
   "cell_type": "code",
   "execution_count": 31,
   "id": "2253aae3",
   "metadata": {},
   "outputs": [],
   "source": [
    "torch.manual_seed(33)\n",
    "model = TabularModel(embedding_sizes, continiouses.shape[1], 1, [200,100], probability=0.4)"
   ]
  },
  {
   "cell_type": "code",
   "execution_count": 32,
   "id": "d227c690",
   "metadata": {},
   "outputs": [],
   "source": [
    "criterion = nn.MSELoss()  # we'll convert this to RMSE later\n",
    "optimizer = torch.optim.Adam(model.parameters(), lr=0.001)"
   ]
  },
  {
   "cell_type": "code",
   "execution_count": 33,
   "id": "e76500b4",
   "metadata": {},
   "outputs": [],
   "source": [
    "batch_size = 1000 #the amount of samples is len(df)=120,000 but just for the sake of running faster here I used this\n",
    "test_size = int(batch_size * .2)\n",
    "\n",
    "categories_train = categories[:batch_size-test_size]\n",
    "categories_test = categories[batch_size-test_size:batch_size]\n",
    "continiouses_train = continiouses[:batch_size-test_size]\n",
    "continiouses_test = continiouses[batch_size-test_size:batch_size]\n",
    "y_train = y[:batch_size-test_size]\n",
    "y_test = y[batch_size-test_size:batch_size]"
   ]
  },
  {
   "cell_type": "code",
   "execution_count": 34,
   "id": "ecf92f83",
   "metadata": {},
   "outputs": [
    {
     "name": "stdout",
     "output_type": "stream",
     "text": [
      "epoch:   1  loss: 12.24625492\n",
      "epoch:  26  loss: 10.67411137\n",
      "epoch:  51  loss: 9.78016281\n",
      "epoch:  76  loss: 9.18004036\n",
      "epoch: 101  loss: 8.65494728\n",
      "epoch: 126  loss: 7.97454071\n",
      "epoch: 151  loss: 7.02165031\n",
      "epoch: 176  loss: 5.86341429\n",
      "epoch: 201  loss: 4.61483669\n",
      "epoch: 226  loss: 3.50409222\n",
      "epoch: 251  loss: 3.10732770\n",
      "epoch: 276  loss: 3.07376719\n",
      "epoch: 300  loss: 2.78747272\n",
      "\n",
      "Duration: 2 seconds\n"
     ]
    }
   ],
   "source": [
    "#train the model\n",
    "import time\n",
    "start_time = time.time()\n",
    "\n",
    "epochs = 300\n",
    "losses = []\n",
    "\n",
    "for i in range(epochs):\n",
    "    i+=1\n",
    "    y_prediction = model(categories_train, continiouses_train)\n",
    "    loss = torch.sqrt(criterion(y_prediction, y_train)) # RMSE\n",
    "    losses.append(loss)\n",
    "    \n",
    "    # a neat trick to save screen space:\n",
    "    if i%25 == 1:\n",
    "        print(f'epoch: {i:3}  loss: {loss.item():10.8f}')\n",
    "\n",
    "    optimizer.zero_grad()\n",
    "    loss.backward()\n",
    "    optimizer.step()\n",
    "\n",
    "print(f'epoch: {i:3}  loss: {loss.item():10.8f}') # print the last line\n",
    "print(f'\\nDuration: {time.time() - start_time:.0f} seconds') # print the time elapsed"
   ]
  },
  {
   "cell_type": "code",
   "execution_count": 35,
   "id": "14c711a7",
   "metadata": {},
   "outputs": [
    {
     "data": {
      "image/png": "[encoded data removed]",
      "text/plain": [
       "<Figure size 640x480 with 1 Axes>"
      ]
     },
     "metadata": {},
     "output_type": "display_data"
    }
   ],
   "source": [
    "#plot the loss function\n",
    "with torch.no_grad():\n",
    "    plt.plot(range(epochs), losses)\n",
    "    plt.ylabel('RMSE Loss')\n",
    "    plt.xlabel('epoch');"
   ]
  },
  {
   "cell_type": "code",
   "execution_count": 36,
   "id": "8a1f0559",
   "metadata": {},
   "outputs": [
    {
     "name": "stdout",
     "output_type": "stream",
     "text": [
      "RMSE: 3.72431517\n"
     ]
    }
   ],
   "source": [
    "# TO EVALUATE THE ENTIRE TEST SET\n",
    "with torch.no_grad():\n",
    "    y_validation = model(categories_test, continiouses_test)\n",
    "    loss = torch.sqrt(criterion(y_validation, y_test))\n",
    "print(f'RMSE: {loss:.8f}')"
   ]
  }
 ],
 "metadata": {
  "kernelspec": {
   "display_name": "Python 3 (ipykernel)",
   "language": "python",
   "name": "python3"
  },
  "language_info": {
   "codemirror_mode": {
    "name": "ipython",
    "version": 3
   },
   "file_extension": ".py",
   "mimetype": "text/x-python",
   "name": "python",
   "nbconvert_exporter": "python",
   "pygments_lexer": "ipython3",
   "version": "3.8.16"
  }
 },
 "nbformat": 4,
 "nbformat_minor": 5
}
