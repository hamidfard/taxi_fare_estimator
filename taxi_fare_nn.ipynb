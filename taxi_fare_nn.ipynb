{
 "cells": [
  {
   "cell_type": "code",
   "execution_count": 1,
   "id": "ff7ec226",
   "metadata": {},
   "outputs": [],
   "source": [
    "# import the required libraries\n",
    "import torch\n",
    "import torch.nn as nn\n",
    "\n",
    "import numpy as np\n",
    "import pandas as pd\n",
    "import matplotlib.pyplot as plt\n",
    "\n",
    "import os"
   ]
  },
  {
   "cell_type": "code",
   "execution_count": 2,
   "id": "a60827df",
   "metadata": {},
   "outputs": [],
   "source": [
    "# read the dataset\n",
    "file_path = os.path.join('data', 'NYCTaxiFares.csv')\n",
    "df = pd.read_csv(file_path)"
   ]
  },
  {
   "cell_type": "code",
   "execution_count": 3,
   "id": "cc3acd76",
   "metadata": {},
   "outputs": [
    {
     "name": "stdout",
     "output_type": "stream",
     "text": [
      "<class 'pandas.core.frame.DataFrame'>\n",
      "RangeIndex: 120000 entries, 0 to 119999\n",
      "Data columns (total 8 columns):\n",
      " #   Column             Non-Null Count   Dtype  \n",
      "---  ------             --------------   -----  \n",
      " 0   pickup_datetime    120000 non-null  object \n",
      " 1   fare_amount        120000 non-null  float64\n",
      " 2   fare_class         120000 non-null  int64  \n",
      " 3   pickup_longitude   120000 non-null  float64\n",
      " 4   pickup_latitude    120000 non-null  float64\n",
      " 5   dropoff_longitude  120000 non-null  float64\n",
      " 6   dropoff_latitude   120000 non-null  float64\n",
      " 7   passenger_count    120000 non-null  int64  \n",
      "dtypes: float64(5), int64(2), object(1)\n",
      "memory usage: 7.3+ MB\n"
     ]
    }
   ],
   "source": [
    "df.info()"
   ]
  },
  {
   "cell_type": "code",
   "execution_count": 4,
   "id": "20595e9c",
   "metadata": {},
   "outputs": [
    {
     "data": {
      "text/html": [
       "<div>\n",
       "<style scoped>\n",
       "    .dataframe tbody tr th:only-of-type {\n",
       "        vertical-align: middle;\n",
       "    }\n",
       "\n",
       "    .dataframe tbody tr th {\n",
       "        vertical-align: top;\n",
       "    }\n",
       "\n",
       "    .dataframe thead th {\n",
       "        text-align: right;\n",
       "    }\n",
       "</style>\n",
       "<table border=\"1\" class=\"dataframe\">\n",
       "  <thead>\n",
       "    <tr style=\"text-align: right;\">\n",
       "      <th></th>\n",
       "      <th>pickup_datetime</th>\n",
       "      <th>fare_amount</th>\n",
       "      <th>fare_class</th>\n",
       "      <th>pickup_longitude</th>\n",
       "      <th>pickup_latitude</th>\n",
       "      <th>dropoff_longitude</th>\n",
       "      <th>dropoff_latitude</th>\n",
       "      <th>passenger_count</th>\n",
       "    </tr>\n",
       "  </thead>\n",
       "  <tbody>\n",
       "    <tr>\n",
       "      <th>0</th>\n",
       "      <td>2010-04-19 08:17:56 UTC</td>\n",
       "      <td>6.5</td>\n",
       "      <td>0</td>\n",
       "      <td>-73.992365</td>\n",
       "      <td>40.730521</td>\n",
       "      <td>-73.975499</td>\n",
       "      <td>40.744746</td>\n",
       "      <td>1</td>\n",
       "    </tr>\n",
       "    <tr>\n",
       "      <th>1</th>\n",
       "      <td>2010-04-17 15:43:53 UTC</td>\n",
       "      <td>6.9</td>\n",
       "      <td>0</td>\n",
       "      <td>-73.990078</td>\n",
       "      <td>40.740558</td>\n",
       "      <td>-73.974232</td>\n",
       "      <td>40.744114</td>\n",
       "      <td>1</td>\n",
       "    </tr>\n",
       "    <tr>\n",
       "      <th>2</th>\n",
       "      <td>2010-04-17 11:23:26 UTC</td>\n",
       "      <td>10.1</td>\n",
       "      <td>1</td>\n",
       "      <td>-73.994149</td>\n",
       "      <td>40.751118</td>\n",
       "      <td>-73.960064</td>\n",
       "      <td>40.766235</td>\n",
       "      <td>2</td>\n",
       "    </tr>\n",
       "    <tr>\n",
       "      <th>3</th>\n",
       "      <td>2010-04-11 21:25:03 UTC</td>\n",
       "      <td>8.9</td>\n",
       "      <td>0</td>\n",
       "      <td>-73.990485</td>\n",
       "      <td>40.756422</td>\n",
       "      <td>-73.971205</td>\n",
       "      <td>40.748192</td>\n",
       "      <td>1</td>\n",
       "    </tr>\n",
       "    <tr>\n",
       "      <th>4</th>\n",
       "      <td>2010-04-17 02:19:01 UTC</td>\n",
       "      <td>19.7</td>\n",
       "      <td>1</td>\n",
       "      <td>-73.990976</td>\n",
       "      <td>40.734202</td>\n",
       "      <td>-73.905956</td>\n",
       "      <td>40.743115</td>\n",
       "      <td>1</td>\n",
       "    </tr>\n",
       "    <tr>\n",
       "      <th>...</th>\n",
       "      <td>...</td>\n",
       "      <td>...</td>\n",
       "      <td>...</td>\n",
       "      <td>...</td>\n",
       "      <td>...</td>\n",
       "      <td>...</td>\n",
       "      <td>...</td>\n",
       "      <td>...</td>\n",
       "    </tr>\n",
       "    <tr>\n",
       "      <th>119995</th>\n",
       "      <td>2010-04-18 14:33:03 UTC</td>\n",
       "      <td>15.3</td>\n",
       "      <td>1</td>\n",
       "      <td>-73.955857</td>\n",
       "      <td>40.784590</td>\n",
       "      <td>-73.981941</td>\n",
       "      <td>40.736789</td>\n",
       "      <td>1</td>\n",
       "    </tr>\n",
       "    <tr>\n",
       "      <th>119996</th>\n",
       "      <td>2010-04-23 10:27:48 UTC</td>\n",
       "      <td>15.3</td>\n",
       "      <td>1</td>\n",
       "      <td>-73.996329</td>\n",
       "      <td>40.772727</td>\n",
       "      <td>-74.049890</td>\n",
       "      <td>40.740413</td>\n",
       "      <td>1</td>\n",
       "    </tr>\n",
       "    <tr>\n",
       "      <th>119997</th>\n",
       "      <td>2010-04-18 18:50:40 UTC</td>\n",
       "      <td>12.5</td>\n",
       "      <td>1</td>\n",
       "      <td>-73.988574</td>\n",
       "      <td>40.749772</td>\n",
       "      <td>-74.011541</td>\n",
       "      <td>40.707799</td>\n",
       "      <td>3</td>\n",
       "    </tr>\n",
       "    <tr>\n",
       "      <th>119998</th>\n",
       "      <td>2010-04-13 08:14:44 UTC</td>\n",
       "      <td>4.9</td>\n",
       "      <td>0</td>\n",
       "      <td>-74.004449</td>\n",
       "      <td>40.724529</td>\n",
       "      <td>-73.992697</td>\n",
       "      <td>40.730765</td>\n",
       "      <td>1</td>\n",
       "    </tr>\n",
       "    <tr>\n",
       "      <th>119999</th>\n",
       "      <td>2010-04-17 16:00:14 UTC</td>\n",
       "      <td>5.3</td>\n",
       "      <td>0</td>\n",
       "      <td>-73.955415</td>\n",
       "      <td>40.771920</td>\n",
       "      <td>-73.967623</td>\n",
       "      <td>40.763015</td>\n",
       "      <td>3</td>\n",
       "    </tr>\n",
       "  </tbody>\n",
       "</table>\n",
       "<p>120000 rows × 8 columns</p>\n",
       "</div>"
      ],
      "text/plain": [
       "                pickup_datetime  fare_amount  fare_class  pickup_longitude  \\\n",
       "0       2010-04-19 08:17:56 UTC          6.5           0        -73.992365   \n",
       "1       2010-04-17 15:43:53 UTC          6.9           0        -73.990078   \n",
       "2       2010-04-17 11:23:26 UTC         10.1           1        -73.994149   \n",
       "3       2010-04-11 21:25:03 UTC          8.9           0        -73.990485   \n",
       "4       2010-04-17 02:19:01 UTC         19.7           1        -73.990976   \n",
       "...                         ...          ...         ...               ...   \n",
       "119995  2010-04-18 14:33:03 UTC         15.3           1        -73.955857   \n",
       "119996  2010-04-23 10:27:48 UTC         15.3           1        -73.996329   \n",
       "119997  2010-04-18 18:50:40 UTC         12.5           1        -73.988574   \n",
       "119998  2010-04-13 08:14:44 UTC          4.9           0        -74.004449   \n",
       "119999  2010-04-17 16:00:14 UTC          5.3           0        -73.955415   \n",
       "\n",
       "        pickup_latitude  dropoff_longitude  dropoff_latitude  passenger_count  \n",
       "0             40.730521         -73.975499         40.744746                1  \n",
       "1             40.740558         -73.974232         40.744114                1  \n",
       "2             40.751118         -73.960064         40.766235                2  \n",
       "3             40.756422         -73.971205         40.748192                1  \n",
       "4             40.734202         -73.905956         40.743115                1  \n",
       "...                 ...                ...               ...              ...  \n",
       "119995        40.784590         -73.981941         40.736789                1  \n",
       "119996        40.772727         -74.049890         40.740413                1  \n",
       "119997        40.749772         -74.011541         40.707799                3  \n",
       "119998        40.724529         -73.992697         40.730765                1  \n",
       "119999        40.771920         -73.967623         40.763015                3  \n",
       "\n",
       "[120000 rows x 8 columns]"
      ]
     },
     "execution_count": 4,
     "metadata": {},
     "output_type": "execute_result"
    }
   ],
   "source": [
    "df"
   ]
  },
  {
   "cell_type": "code",
   "execution_count": 5,
   "id": "8285dccc",
   "metadata": {},
   "outputs": [
    {
     "data": {
      "text/html": [
       "<div>\n",
       "<style scoped>\n",
       "    .dataframe tbody tr th:only-of-type {\n",
       "        vertical-align: middle;\n",
       "    }\n",
       "\n",
       "    .dataframe tbody tr th {\n",
       "        vertical-align: top;\n",
       "    }\n",
       "\n",
       "    .dataframe thead th {\n",
       "        text-align: right;\n",
       "    }\n",
       "</style>\n",
       "<table border=\"1\" class=\"dataframe\">\n",
       "  <thead>\n",
       "    <tr style=\"text-align: right;\">\n",
       "      <th></th>\n",
       "      <th>count</th>\n",
       "      <th>mean</th>\n",
       "      <th>std</th>\n",
       "      <th>min</th>\n",
       "      <th>25%</th>\n",
       "      <th>50%</th>\n",
       "      <th>75%</th>\n",
       "      <th>max</th>\n",
       "    </tr>\n",
       "  </thead>\n",
       "  <tbody>\n",
       "    <tr>\n",
       "      <th>fare_amount</th>\n",
       "      <td>120000.0</td>\n",
       "      <td>10.040326</td>\n",
       "      <td>7.500134</td>\n",
       "      <td>2.500000</td>\n",
       "      <td>5.700000</td>\n",
       "      <td>7.700000</td>\n",
       "      <td>11.30000</td>\n",
       "      <td>49.900000</td>\n",
       "    </tr>\n",
       "    <tr>\n",
       "      <th>fare_class</th>\n",
       "      <td>120000.0</td>\n",
       "      <td>0.333333</td>\n",
       "      <td>0.471406</td>\n",
       "      <td>0.000000</td>\n",
       "      <td>0.000000</td>\n",
       "      <td>0.000000</td>\n",
       "      <td>1.00000</td>\n",
       "      <td>1.000000</td>\n",
       "    </tr>\n",
       "    <tr>\n",
       "      <th>pickup_longitude</th>\n",
       "      <td>120000.0</td>\n",
       "      <td>-73.976626</td>\n",
       "      <td>0.031497</td>\n",
       "      <td>-74.465447</td>\n",
       "      <td>-73.992386</td>\n",
       "      <td>-73.982084</td>\n",
       "      <td>-73.96871</td>\n",
       "      <td>-73.311845</td>\n",
       "    </tr>\n",
       "    <tr>\n",
       "      <th>pickup_latitude</th>\n",
       "      <td>120000.0</td>\n",
       "      <td>40.751443</td>\n",
       "      <td>0.025821</td>\n",
       "      <td>40.121653</td>\n",
       "      <td>40.736594</td>\n",
       "      <td>40.753661</td>\n",
       "      <td>40.76802</td>\n",
       "      <td>40.981292</td>\n",
       "    </tr>\n",
       "    <tr>\n",
       "      <th>dropoff_longitude</th>\n",
       "      <td>120000.0</td>\n",
       "      <td>-73.974501</td>\n",
       "      <td>0.032419</td>\n",
       "      <td>-74.443323</td>\n",
       "      <td>-73.991478</td>\n",
       "      <td>-73.980411</td>\n",
       "      <td>-73.96550</td>\n",
       "      <td>-73.496140</td>\n",
       "    </tr>\n",
       "    <tr>\n",
       "      <th>dropoff_latitude</th>\n",
       "      <td>120000.0</td>\n",
       "      <td>40.751695</td>\n",
       "      <td>0.030279</td>\n",
       "      <td>40.164927</td>\n",
       "      <td>40.735914</td>\n",
       "      <td>40.754441</td>\n",
       "      <td>40.76888</td>\n",
       "      <td>40.993498</td>\n",
       "    </tr>\n",
       "    <tr>\n",
       "      <th>passenger_count</th>\n",
       "      <td>120000.0</td>\n",
       "      <td>1.347167</td>\n",
       "      <td>0.759263</td>\n",
       "      <td>1.000000</td>\n",
       "      <td>1.000000</td>\n",
       "      <td>1.000000</td>\n",
       "      <td>1.00000</td>\n",
       "      <td>5.000000</td>\n",
       "    </tr>\n",
       "  </tbody>\n",
       "</table>\n",
       "</div>"
      ],
      "text/plain": [
       "                      count       mean       std        min        25%  \\\n",
       "fare_amount        120000.0  10.040326  7.500134   2.500000   5.700000   \n",
       "fare_class         120000.0   0.333333  0.471406   0.000000   0.000000   \n",
       "pickup_longitude   120000.0 -73.976626  0.031497 -74.465447 -73.992386   \n",
       "pickup_latitude    120000.0  40.751443  0.025821  40.121653  40.736594   \n",
       "dropoff_longitude  120000.0 -73.974501  0.032419 -74.443323 -73.991478   \n",
       "dropoff_latitude   120000.0  40.751695  0.030279  40.164927  40.735914   \n",
       "passenger_count    120000.0   1.347167  0.759263   1.000000   1.000000   \n",
       "\n",
       "                         50%       75%        max  \n",
       "fare_amount         7.700000  11.30000  49.900000  \n",
       "fare_class          0.000000   1.00000   1.000000  \n",
       "pickup_longitude  -73.982084 -73.96871 -73.311845  \n",
       "pickup_latitude    40.753661  40.76802  40.981292  \n",
       "dropoff_longitude -73.980411 -73.96550 -73.496140  \n",
       "dropoff_latitude   40.754441  40.76888  40.993498  \n",
       "passenger_count     1.000000   1.00000   5.000000  "
      ]
     },
     "execution_count": 5,
     "metadata": {},
     "output_type": "execute_result"
    }
   ],
   "source": [
    "df.describe().T"
   ]
  },
  {
   "cell_type": "code",
   "execution_count": 6,
   "id": "93212950",
   "metadata": {},
   "outputs": [],
   "source": [
    "def haversine_distance(df, lat1, long1, lat2, long2):\n",
    "    \"\"\"\n",
    "    Calculates the distance between 2 points.\n",
    "    \n",
    "    This function calculates the haversine distance between 2 sets of GPS coordinates. Find the details in\n",
    "    https://en.wikipedia.org/wiki/Haversine_formula\n",
    "    \n",
    "    Parameters:\n",
    "    df (pandas.DataFrame): The dataframe including the GPS coordinates\n",
    "  \n",
    "    Returns:\n",
    "    pandas.Series: The distance of all points in kilometers\n",
    "\n",
    "    \n",
    "    \"\"\"\n",
    "    r = 6371  # average radius of Earth in kilometers\n",
    "       \n",
    "    phi1 = np.radians(df[lat1])\n",
    "    phi2 = np.radians(df[lat2])\n",
    "    \n",
    "    delta_phi = np.radians(df[lat2]-df[lat1])\n",
    "    delta_lambda = np.radians(df[long2]-df[long1])\n",
    "     \n",
    "    a = np.sin(delta_phi/2)**2 + np.cos(phi1) * np.cos(phi2) * np.sin(delta_lambda/2)**2\n",
    "    c = 2 * np.arctan2(np.sqrt(a), np.sqrt(1-a))\n",
    "    d = (r * c) # in kilometers\n",
    "\n",
    "    return d"
   ]
  },
  {
   "cell_type": "code",
   "execution_count": 7,
   "id": "f19c645f",
   "metadata": {},
   "outputs": [],
   "source": [
    "#we add a column for storing the trip distances\n",
    "df['dist_km'] = haversine_distance(df,'pickup_latitude', 'pickup_longitude', 'dropoff_latitude', 'dropoff_longitude')"
   ]
  },
  {
   "cell_type": "code",
   "execution_count": 8,
   "id": "b5c63269",
   "metadata": {},
   "outputs": [],
   "source": [
    "# We breakdown the pickup time to fine grained details which will is of importance for the model\n",
    "df['EDTdate'] = pd.to_datetime(df['pickup_datetime'].str[:19]) - pd.Timedelta(hours=4)\n",
    "df['Hour'] = df['EDTdate'].dt.hour\n",
    "df['AMorPM'] = np.where(df['Hour']<12,'am','pm')\n",
    "df['Weekday'] = df['EDTdate'].dt.strftime(\"%a\")"
   ]
  },
  {
   "cell_type": "code",
   "execution_count": 9,
   "id": "e2cf87f4",
   "metadata": {},
   "outputs": [
    {
     "data": {
      "text/plain": [
       "Index(['pickup_datetime', 'fare_amount', 'fare_class', 'pickup_longitude',\n",
       "       'pickup_latitude', 'dropoff_longitude', 'dropoff_latitude',\n",
       "       'passenger_count', 'dist_km', 'EDTdate', 'Hour', 'AMorPM', 'Weekday'],\n",
       "      dtype='object')"
      ]
     },
     "execution_count": 9,
     "metadata": {},
     "output_type": "execute_result"
    }
   ],
   "source": [
    "df.columns"
   ]
  },
  {
   "cell_type": "code",
   "execution_count": 10,
   "id": "7c9a2411",
   "metadata": {},
   "outputs": [],
   "source": [
    "# we devide the columns to categorical, continious and label columns\n",
    "categorical_columns = ['Hour', 'AMorPM', 'Weekday']\n",
    "\n",
    "continious_columns = ['pickup_latitude', 'pickup_longitude', 'dropoff_latitude', 'dropoff_longitude', 'passenger_count', 'dist_km']\n",
    "\n",
    "y_column = ['fare_amount']"
   ]
  },
  {
   "cell_type": "code",
   "execution_count": 11,
   "id": "ccc068b0",
   "metadata": {},
   "outputs": [
    {
     "data": {
      "text/plain": [
       "pickup_datetime              object\n",
       "fare_amount                 float64\n",
       "fare_class                    int64\n",
       "pickup_longitude            float64\n",
       "pickup_latitude             float64\n",
       "dropoff_longitude           float64\n",
       "dropoff_latitude            float64\n",
       "passenger_count               int64\n",
       "dist_km                     float64\n",
       "EDTdate              datetime64[ns]\n",
       "Hour                       category\n",
       "AMorPM                     category\n",
       "Weekday                    category\n",
       "dtype: object"
      ]
     },
     "execution_count": 11,
     "metadata": {},
     "output_type": "execute_result"
    }
   ],
   "source": [
    "# Convert our three categorical columns to category dtypes\n",
    "for category in categorical_columns:\n",
    "    df[category] = df[category].astype('category')\n",
    "\n",
    "df.dtypes"
   ]
  },
  {
   "cell_type": "code",
   "execution_count": 12,
   "id": "ad3a2325",
   "metadata": {},
   "outputs": [],
   "source": [
    "hour = df['Hour'].cat.codes.values\n",
    "am_pm = df['AMorPM'].cat.codes.values\n",
    "week_day = df['Weekday'].cat.codes.values\n",
    "\n",
    "categories = np.stack([hour, am_pm, week_day], 1)"
   ]
  },
  {
   "cell_type": "code",
   "execution_count": 13,
   "id": "f328ecd3",
   "metadata": {},
   "outputs": [],
   "source": [
    "# Convert categorical variables to a tensor\n",
    "categories = torch.tensor(categories, dtype=torch.int64) "
   ]
  },
  {
   "cell_type": "code",
   "execution_count": 14,
   "id": "8e5dcd19",
   "metadata": {},
   "outputs": [],
   "source": [
    "# Convert continuous variables to a tensor\n",
    "continiouses = np.stack([df[columns].values for columns in continious_columns], 1)\n",
    "continiouses = torch.tensor(continiouses, dtype=torch.float)"
   ]
  },
  {
   "cell_type": "code",
   "execution_count": 15,
   "id": "bd99b34a",
   "metadata": {},
   "outputs": [],
   "source": [
    "# Convert labels to a tensor\n",
    "y = torch.tensor(df[y_column].values, dtype=torch.float).reshape(-1,1)"
   ]
  },
  {
   "cell_type": "code",
   "execution_count": 16,
   "id": "8fed974c",
   "metadata": {},
   "outputs": [],
   "source": [
    "# This will set embedding sizes for Hours, AMvsPM and Weekdays\n",
    "categories_sizes = [len(df[column].cat.categories) for column in categorical_columns]\n",
    "embedding_sizes = [(size, min(50, (size+1)//2)) for size in categories_sizes]"
   ]
  },
  {
   "cell_type": "code",
   "execution_count": 17,
   "id": "f099e1e0",
   "metadata": {},
   "outputs": [],
   "source": [
    "class TabularModel(nn.Module):\n",
    "\n",
    "    def __init__(self, embedding_sizes, continious_no, out_size, layers, probability=0.5):\n",
    "        super().__init__()\n",
    "        self.embeddings = nn.ModuleList([nn.Embedding(size_of_category, size_of_embed) for size_of_category,size_of_embed in embedding_sizes])\n",
    "        self.embedding_drop = nn.Dropout(probability)\n",
    "        self.continious_normalization = nn.BatchNorm1d(continious_no)\n",
    "        \n",
    "        layer_list = []\n",
    "        embedding_no = sum((size_of_embed for size_of_category,size_of_embed in embedding_sizes))\n",
    "        input_no = embedding_no + continious_no\n",
    "        \n",
    "        for layer_width in layers:\n",
    "            layer_list.append(nn.Linear(input_no,layer_width)) \n",
    "            layer_list.append(nn.ReLU(inplace=True))\n",
    "            layer_list.append(nn.BatchNorm1d(layer_width))\n",
    "            layer_list.append(nn.Dropout(probability))\n",
    "            input_no = layer_width\n",
    "        layer_list.append(nn.Linear(layers[-1],out_size))\n",
    "            \n",
    "        self.layers = nn.Sequential(*layer_list)\n",
    "    \n",
    "    def forward(self, x_categorical, x_continious):\n",
    "        embeddings_list = []\n",
    "        for i,e in enumerate(self.embeddings):\n",
    "            embeddings_list.append(e(x_categorical[:,i]))\n",
    "        x = torch.cat(embeddings_list, 1)\n",
    "        x = self.embedding_drop(x)\n",
    "        \n",
    "        x_continious = self.continious_normalization(x_continious)\n",
    "        x = torch.cat([x, x_continious], 1)\n",
    "        x = self.layers(x)\n",
    "        return x"
   ]
  },
  {
   "cell_type": "code",
   "execution_count": 18,
   "id": "2253aae3",
   "metadata": {},
   "outputs": [],
   "source": [
    "torch.manual_seed(42)\n",
    "model = TabularModel(embedding_sizes, continiouses.shape[1], 1, [200,100], probability=0.4)"
   ]
  },
  {
   "cell_type": "code",
   "execution_count": 19,
   "id": "d227c690",
   "metadata": {},
   "outputs": [],
   "source": [
    "criterion = nn.MSELoss()  # we'll convert this to RMSE later\n",
    "optimizer = torch.optim.Adam(model.parameters(), lr=0.001)"
   ]
  },
  {
   "cell_type": "code",
   "execution_count": 20,
   "id": "e76500b4",
   "metadata": {},
   "outputs": [],
   "source": [
    "batch_size = 1000 #the amount of samples is len(df)=120,000 but just for the sake of running faster here I used this\n",
    "test_size = int(batch_size * .2)\n",
    "\n",
    "categories_train = categories[:batch_size-test_size]\n",
    "categories_test = categories[batch_size-test_size:batch_size]\n",
    "continiouses_train = continiouses[:batch_size-test_size]\n",
    "continiouses_test = continiouses[batch_size-test_size:batch_size]\n",
    "y_train = y[:batch_size-test_size]\n",
    "y_test = y[batch_size-test_size:batch_size]"
   ]
  },
  {
   "cell_type": "code",
   "execution_count": 21,
   "id": "ecf92f83",
   "metadata": {},
   "outputs": [
    {
     "name": "stdout",
     "output_type": "stream",
     "text": [
      "epoch:   1  loss: 12.35908699\n",
      "epoch:  26  loss: 10.67487621\n",
      "epoch:  51  loss: 9.75207806\n",
      "epoch:  76  loss: 9.19721127\n",
      "epoch: 101  loss: 8.63146400\n",
      "epoch: 126  loss: 7.94379473\n",
      "epoch: 151  loss: 7.04895735\n",
      "epoch: 176  loss: 5.89843464\n",
      "epoch: 201  loss: 4.62885380\n",
      "epoch: 226  loss: 3.80666351\n",
      "epoch: 251  loss: 3.28142071\n",
      "epoch: 276  loss: 3.11033678\n",
      "epoch: 300  loss: 2.94236946\n",
      "\n",
      "Duration: 2 seconds\n"
     ]
    }
   ],
   "source": [
    "#train the model\n",
    "import time\n",
    "start_time = time.time()\n",
    "\n",
    "epochs = 300\n",
    "losses = []\n",
    "\n",
    "for i in range(epochs):\n",
    "    i+=1\n",
    "    y_prediction = model(categories_train, continiouses_train)\n",
    "    loss = torch.sqrt(criterion(y_prediction, y_train)) # RMSE\n",
    "    losses.append(loss)\n",
    "    \n",
    "    # a neat trick to save screen space:\n",
    "    if i%25 == 1:\n",
    "        print(f'epoch: {i:3}  loss: {loss.item():10.8f}')\n",
    "\n",
    "    optimizer.zero_grad()\n",
    "    loss.backward()\n",
    "    optimizer.step()\n",
    "\n",
    "print(f'epoch: {i:3}  loss: {loss.item():10.8f}') # print the last line\n",
    "print(f'\\nDuration: {time.time() - start_time:.0f} seconds') # print the time elapsed"
   ]
  },
  {
   "cell_type": "code",
   "execution_count": 22,
   "id": "14c711a7",
   "metadata": {},
   "outputs": [
    {
     "data": {
      "image/png": "[encoded data removed]",
      "text/plain": [
       "<Figure size 640x480 with 1 Axes>"
      ]
     },
     "metadata": {},
     "output_type": "display_data"
    }
   ],
   "source": [
    "#plot the loss function\n",
    "with torch.no_grad():\n",
    "    plt.plot(range(epochs), losses)\n",
    "    plt.ylabel('RMSE Loss')\n",
    "    plt.xlabel('epoch');"
   ]
  },
  {
   "cell_type": "code",
   "execution_count": 23,
   "id": "8a1f0559",
   "metadata": {},
   "outputs": [
    {
     "name": "stdout",
     "output_type": "stream",
     "text": [
      "RMSE: 3.57493377\n"
     ]
    }
   ],
   "source": [
    "# TO EVALUATE THE ENTIRE TEST SET\n",
    "with torch.no_grad():\n",
    "    y_validation = model(categories_test, continiouses_test)\n",
    "    loss = torch.sqrt(criterion(y_validation, y_test))\n",
    "print(f'RMSE: {loss:.8f}')"
   ]
  }
 ],
 "metadata": {
  "kernelspec": {
   "display_name": "Python 3 (ipykernel)",
   "language": "python",
   "name": "python3"
  },
  "language_info": {
   "codemirror_mode": {
    "name": "ipython",
    "version": 3
   },
   "file_extension": ".py",
   "mimetype": "text/x-python",
   "name": "python",
   "nbconvert_exporter": "python",
   "pygments_lexer": "ipython3",
   "version": "3.8.16"
  }
 },
 "nbformat": 4,
 "nbformat_minor": 5
}
